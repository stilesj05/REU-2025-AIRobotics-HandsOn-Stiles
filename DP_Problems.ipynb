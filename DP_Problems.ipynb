{
  "nbformat": 4,
  "nbformat_minor": 0,
  "metadata": {
    "colab": {
      "provenance": []
    },
    "kernelspec": {
      "name": "python3",
      "display_name": "Python 3"
    },
    "language_info": {
      "name": "python"
    }
  },
  "cells": [
    {
      "cell_type": "code",
      "execution_count": 5,
      "metadata": {
        "colab": {
          "base_uri": "https://localhost:8080/"
        },
        "id": "XfU6g13LTS9j",
        "outputId": "2a9c0464-b3e7-4fe0-d07d-c4ae2316b846"
      },
      "outputs": [
        {
          "output_type": "stream",
          "name": "stdout",
          "text": [
            "LIS (rec): 5\n",
            "LIS (memo): 5\n",
            "LIS (tab): 5\n"
          ]
        }
      ],
      "source": [
        "# Task 2: Dynamic Programming Practice\n",
        "# Author: Jaydine Stiles\n",
        "# Date: 06/20/25\n",
        "\n",
        "# Part 1: Longest Increasing Subsequence\n",
        "\n",
        "from functools import lru_cache\n",
        "\n",
        "# 1) Pure recursive\n",
        "def lis_rec(arr, n):\n",
        "    if n == 1:\n",
        "        return 1\n",
        "    best = 1\n",
        "    for i in range(1, n):\n",
        "        cur = lis_rec(arr, i)\n",
        "        if arr[i-1] < arr[n-1] and cur + 1 > best:\n",
        "            best = cur + 1\n",
        "    return best\n",
        "\n",
        "def lis_rec_driver(arr):\n",
        "    return max(lis_rec(arr, i) for i in range(1, len(arr)+1))\n",
        "\n",
        "\n",
        "# 2) Top-down with memoization\n",
        "def lis_memo(arr):\n",
        "    @lru_cache(None)\n",
        "    def helper(k):\n",
        "        best = 1\n",
        "        for i in range(1, k):\n",
        "            if arr[i-1] < arr[k-1]:\n",
        "                best = max(best, helper(i) + 1)\n",
        "        return best\n",
        "    return max(helper(i) for i in range(1, len(arr)+1))\n",
        "\n",
        "\n",
        "# 3) Bottom-up tabulation\n",
        "def lis_tab(arr):\n",
        "    n = len(arr)\n",
        "    dp = [1]*n\n",
        "    for i in range(n):\n",
        "        for j in range(i):\n",
        "            if arr[j] < arr[i]:\n",
        "                dp[i] = max(dp[i], dp[j] + 1)\n",
        "    return max(dp)\n",
        "\n",
        "\n",
        "# Test\n",
        "arr = [10, 22, 9, 33, 21, 50, 41, 60]\n",
        "print(\"LIS (rec):\", lis_rec_driver(arr))\n",
        "print(\"LIS (memo):\", lis_memo(arr))\n",
        "print(\"LIS (tab):\",  lis_tab(arr))\n"
      ]
    },
    {
      "cell_type": "code",
      "source": [
        "#Part 2: 0/1 Knapsack\n",
        "\n",
        "from functools import lru_cache\n",
        "\n",
        "wt  = [1, 3, 4, 5]\n",
        "val = [1, 4, 5, 7]\n",
        "W   = 7\n",
        "n   = len(wt)\n",
        "\n",
        "# 1) Pure recursive\n",
        "def knap_rec(remaining, i):\n",
        "    if i == 0 or remaining == 0:\n",
        "        return 0\n",
        "    if wt[i-1] > remaining:\n",
        "        return knap_rec(remaining, i-1)\n",
        "    return max(\n",
        "        val[i-1] + knap_rec(remaining - wt[i-1], i-1),\n",
        "        knap_rec(remaining, i-1)\n",
        "    )\n",
        "\n",
        "# 2) Top-down with memoization\n",
        "@lru_cache(None)\n",
        "def knap_memo(remaining, i):\n",
        "    if i == 0 or remaining == 0:\n",
        "        return 0\n",
        "    if wt[i-1] > remaining:\n",
        "        return knap_memo(remaining, i-1)\n",
        "    return max(\n",
        "        val[i-1] + knap_memo(remaining - wt[i-1], i-1),\n",
        "        knap_memo(remaining, i-1)\n",
        "    )\n",
        "\n",
        "# 3) Bottom-up tabulation\n",
        "def knap_tab(W, wt, val):\n",
        "    m = len(wt)\n",
        "    dp = [[0]*(W+1) for _ in range(m+1)]\n",
        "    for i in range(1, m+1):\n",
        "        for w in range(1, W+1):\n",
        "            if wt[i-1] <= w:\n",
        "                dp[i][w] = max(val[i-1] + dp[i-1][w-wt[i-1]], dp[i-1][w])\n",
        "            else:\n",
        "                dp[i][w] = dp[i-1][w]\n",
        "    return dp[m][W]\n",
        "\n",
        "\n",
        "# Test\n",
        "print(\"Knapsack (rec):\",  knap_rec(W, n))\n",
        "print(\"Knapsack (memo):\", knap_memo(W, n))\n",
        "print(\"Knapsack (tab):\",  knap_tab(W, wt, val))\n"
      ],
      "metadata": {
        "colab": {
          "base_uri": "https://localhost:8080/"
        },
        "id": "UQlOcnBxUAkd",
        "outputId": "a554cea0-761b-4425-ccd8-c5985590157e"
      },
      "execution_count": 6,
      "outputs": [
        {
          "output_type": "stream",
          "name": "stdout",
          "text": [
            "Knapsack (rec): 9\n",
            "Knapsack (memo): 9\n",
            "Knapsack (tab): 9\n"
          ]
        }
      ]
    },
    {
      "cell_type": "code",
      "source": [
        "# Part 3: Edit Distance\n",
        "\n",
        "from functools import lru_cache\n",
        "\n",
        "s1, s2 = \"kitten\", \"sitting\"\n",
        "\n",
        "# 1) Pure recursive\n",
        "def ed_rec(a, b):\n",
        "    if not a: return len(b)\n",
        "    if not b: return len(a)\n",
        "    if a[-1] == b[-1]:\n",
        "        return ed_rec(a[:-1], b[:-1])\n",
        "    return 1 + min(\n",
        "        ed_rec(a[:-1], b),    # delete\n",
        "        ed_rec(a,    b[:-1]), # insert\n",
        "        ed_rec(a[:-1], b[:-1])# replace\n",
        "    )\n",
        "\n",
        "# 2) Top-down with memoization\n",
        "@lru_cache(None)\n",
        "def ed_memo(i, j):\n",
        "    if i == 0: return j\n",
        "    if j == 0: return i\n",
        "    if s1[i-1] == s2[j-1]:\n",
        "        return ed_memo(i-1, j-1)\n",
        "    return 1 + min(\n",
        "        ed_memo(i-1, j),   # delete\n",
        "        ed_memo(i,   j-1), # insert\n",
        "        ed_memo(i-1, j-1)  # replace\n",
        "    )\n",
        "\n",
        "# 3) Bottom-up tabulation\n",
        "def ed_tab(a, b):\n",
        "    m, n = len(a), len(b)\n",
        "    dp = [[0]*(n+1) for _ in range(m+1)]\n",
        "    for i in range(m+1): dp[i][0] = i\n",
        "    for j in range(n+1): dp[0][j] = j\n",
        "    for i in range(1, m+1):\n",
        "        for j in range(1, n+1):\n",
        "            if a[i-1] == b[j-1]:\n",
        "                dp[i][j] = dp[i-1][j-1]\n",
        "            else:\n",
        "                dp[i][j] = 1 + min(dp[i-1][j], dp[i][j-1], dp[i-1][j-1])\n",
        "    return dp[m][n]\n",
        "\n",
        "\n",
        "# Test\n",
        "print(\"EditDist (rec):\",  ed_rec(s1, s2))\n",
        "print(\"EditDist (memo):\", ed_memo(len(s1), len(s2)))\n",
        "print(\"EditDist (tab):\",  ed_tab(s1, s2))\n",
        "\n"
      ],
      "metadata": {
        "colab": {
          "base_uri": "https://localhost:8080/"
        },
        "id": "QEqyWY8IUE7R",
        "outputId": "ab5352b6-f206-4213-9ef4-0b0673416ee0"
      },
      "execution_count": 7,
      "outputs": [
        {
          "output_type": "stream",
          "name": "stdout",
          "text": [
            "EditDist (rec): 3\n",
            "EditDist (memo): 3\n",
            "EditDist (tab): 3\n"
          ]
        }
      ]
    },
    {
      "cell_type": "code",
      "source": [
        "# Part 4: Compare recursive vs. tabulation methods & analyze time/space complexity\n",
        "\n",
        "\n",
        "\n",
        "# General Differences\n",
        "\n",
        "# Recursive (naïve):\n",
        "# - Top-down exploration of subproblems via function calls\n",
        "# - Recomputes the same subproblems many times\n",
        "# - Exponential time in the worst case (e.g. O(2^n), O(3^min(m,n)))\n",
        "# - Space usage is just the call stack (O(n) or O(m+n)), but risk of recursion-depth limits\n",
        "# - Very straightforward to implement, but scales poorly\n",
        "\n",
        "# Tabulation (bottom-up DP):\n",
        "# - Builds up solutions from the smallest subproblems in a table/array\n",
        "# - Stores and reuses all intermediate results, avoiding repeated work\n",
        "# - Polynomial time (e.g. O(n^2), O(nW), O(mn))\n",
        "# - Space proportional to the DP table (O(n), O(nW), or O(mn))\n",
        "# - Eliminates recursion overhead and is often faster in practice, but needs more memory\n",
        "\n",
        "\n",
        "\n",
        "# Problem-Specific Comparison\n",
        "\n",
        "# 1. Longest Increasing Subsequence (LIS)\n",
        "#   Recursive:\n",
        "#     Brute-force search over subsequences\n",
        "#     Time: O(2^n), Space: O(n) (call stack)\n",
        "#   Tabulation:\n",
        "#     Fill dp[i] = length of LIS ending at i\n",
        "#     Time: O(n^2), Space: O(n)\n",
        "\n",
        "# 2. 0/1 Knapsack\n",
        "#   Recursive:\n",
        "#     For each item, try include vs. exclude branches\n",
        "#     Time: O(2^n), Space: O(n)\n",
        "#   Tabulation:\n",
        "#     Build table dp[i][w] for items 1..i and capacity w\n",
        "#     Time: O(nW), Space: O(nW)\n",
        "\n",
        "# 3. Edit Distance\n",
        "#   Recursive:\n",
        "#     Try delete/insert/replace at each mismatch\n",
        "#     Time: O(3^{min(m,n)}), Space: O(m + n)\n",
        "#   Tabulation:\n",
        "#     Fill matrix dp[i][j] for prefixes of lengths i and j\n",
        "#     Time: O(mn), Space: O(mn)\n",
        "\n"
      ],
      "metadata": {
        "id": "cxy4wqifX994"
      },
      "execution_count": 8,
      "outputs": []
    }
  ]
}